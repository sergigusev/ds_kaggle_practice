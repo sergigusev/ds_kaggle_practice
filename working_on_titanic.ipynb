{
 "cells": [
  {
   "cell_type": "code",
   "execution_count": 1,
   "id": "9e7ad1bc",
   "metadata": {
    "_cell_guid": "b1076dfc-b9ad-4769-8c92-a6c4dae69d19",
    "_uuid": "8f2839f25d086af736a60e9eeb907d3b93b6e0e5",
    "execution": {
     "iopub.execute_input": "2025-04-24T19:15:03.335182Z",
     "iopub.status.busy": "2025-04-24T19:15:03.334649Z",
     "iopub.status.idle": "2025-04-24T19:15:12.719867Z",
     "shell.execute_reply": "2025-04-24T19:15:12.718680Z"
    },
    "papermill": {
     "duration": 9.39319,
     "end_time": "2025-04-24T19:15:12.721737",
     "exception": false,
     "start_time": "2025-04-24T19:15:03.328547",
     "status": "completed"
    },
    "tags": []
   },
   "outputs": [
    {
     "name": "stdout",
     "output_type": "stream",
     "text": [
      "Requirement already satisfied: phik in /usr/local/lib/python3.10/dist-packages (0.12.4)\r\n",
      "Requirement already satisfied: numpy>=1.18.0 in /usr/local/lib/python3.10/dist-packages (from phik) (1.26.4)\r\n",
      "Requirement already satisfied: scipy>=1.5.2 in /usr/local/lib/python3.10/dist-packages (from phik) (1.13.1)\r\n",
      "Requirement already satisfied: pandas>=0.25.1 in /usr/local/lib/python3.10/dist-packages (from phik) (2.2.3)\r\n",
      "Requirement already satisfied: matplotlib>=2.2.3 in /usr/local/lib/python3.10/dist-packages (from phik) (3.7.5)\r\n",
      "Requirement already satisfied: joblib>=0.14.1 in /usr/local/lib/python3.10/dist-packages (from phik) (1.4.2)\r\n",
      "Requirement already satisfied: contourpy>=1.0.1 in /usr/local/lib/python3.10/dist-packages (from matplotlib>=2.2.3->phik) (1.3.1)\r\n",
      "Requirement already satisfied: cycler>=0.10 in /usr/local/lib/python3.10/dist-packages (from matplotlib>=2.2.3->phik) (0.12.1)\r\n",
      "Requirement already satisfied: fonttools>=4.22.0 in /usr/local/lib/python3.10/dist-packages (from matplotlib>=2.2.3->phik) (4.55.3)\r\n",
      "Requirement already satisfied: kiwisolver>=1.0.1 in /usr/local/lib/python3.10/dist-packages (from matplotlib>=2.2.3->phik) (1.4.7)\r\n",
      "Requirement already satisfied: packaging>=20.0 in /usr/local/lib/python3.10/dist-packages (from matplotlib>=2.2.3->phik) (24.2)\r\n",
      "Requirement already satisfied: pillow>=6.2.0 in /usr/local/lib/python3.10/dist-packages (from matplotlib>=2.2.3->phik) (11.0.0)\r\n",
      "Requirement already satisfied: pyparsing>=2.3.1 in /usr/local/lib/python3.10/dist-packages (from matplotlib>=2.2.3->phik) (3.2.0)\r\n",
      "Requirement already satisfied: python-dateutil>=2.7 in /usr/local/lib/python3.10/dist-packages (from matplotlib>=2.2.3->phik) (2.9.0.post0)\r\n",
      "Requirement already satisfied: mkl_fft in /usr/local/lib/python3.10/dist-packages (from numpy>=1.18.0->phik) (1.3.8)\r\n",
      "Requirement already satisfied: mkl_random in /usr/local/lib/python3.10/dist-packages (from numpy>=1.18.0->phik) (1.2.4)\r\n",
      "Requirement already satisfied: mkl_umath in /usr/local/lib/python3.10/dist-packages (from numpy>=1.18.0->phik) (0.1.1)\r\n",
      "Requirement already satisfied: mkl in /usr/local/lib/python3.10/dist-packages (from numpy>=1.18.0->phik) (2025.0.1)\r\n",
      "Requirement already satisfied: tbb4py in /usr/local/lib/python3.10/dist-packages (from numpy>=1.18.0->phik) (2022.0.0)\r\n",
      "Requirement already satisfied: mkl-service in /usr/local/lib/python3.10/dist-packages (from numpy>=1.18.0->phik) (2.4.1)\r\n",
      "Requirement already satisfied: pytz>=2020.1 in /usr/local/lib/python3.10/dist-packages (from pandas>=0.25.1->phik) (2025.1)\r\n",
      "Requirement already satisfied: tzdata>=2022.7 in /usr/local/lib/python3.10/dist-packages (from pandas>=0.25.1->phik) (2025.1)\r\n",
      "Requirement already satisfied: six>=1.5 in /usr/local/lib/python3.10/dist-packages (from python-dateutil>=2.7->matplotlib>=2.2.3->phik) (1.17.0)\r\n",
      "Requirement already satisfied: intel-openmp>=2024 in /usr/local/lib/python3.10/dist-packages (from mkl->numpy>=1.18.0->phik) (2024.2.0)\r\n",
      "Requirement already satisfied: tbb==2022.* in /usr/local/lib/python3.10/dist-packages (from mkl->numpy>=1.18.0->phik) (2022.0.0)\r\n",
      "Requirement already satisfied: tcmlib==1.* in /usr/local/lib/python3.10/dist-packages (from tbb==2022.*->mkl->numpy>=1.18.0->phik) (1.2.0)\r\n",
      "Requirement already satisfied: intel-cmplr-lib-rt in /usr/local/lib/python3.10/dist-packages (from mkl_umath->numpy>=1.18.0->phik) (2024.2.0)\r\n",
      "Requirement already satisfied: intel-cmplr-lib-ur==2024.2.0 in /usr/local/lib/python3.10/dist-packages (from intel-openmp>=2024->mkl->numpy>=1.18.0->phik) (2024.2.0)\r\n"
     ]
    }
   ],
   "source": [
    "# necessary modules and libraries\n",
    "!pip install phik\n",
    "import numpy as np\n",
    "import pandas as pd\n",
    "import matplotlib.pyplot as plt\n",
    "import seaborn as sns\n",
    "from sklearn.model_selection import train_test_split\n",
    "from sklearn.preprocessing import StandardScaler, OneHotEncoder\n",
    "from sklearn.linear_model import LogisticRegression\n",
    "from sklearn.metrics import accuracy_score, precision_score, recall_score, f1_score\n",
    "from sklearn.model_selection import StratifiedKFold, cross_validate\n",
    "from sklearn.tree import DecisionTreeClassifier\n",
    "from sklearn.model_selection import GridSearchCV, RandomizedSearchCV\n",
    "from sklearn.ensemble import RandomForestClassifier, GradientBoostingClassifier"
   ]
  },
  {
   "cell_type": "code",
   "execution_count": 2,
   "id": "f0eb35b3",
   "metadata": {
    "execution": {
     "iopub.execute_input": "2025-04-24T19:15:12.731411Z",
     "iopub.status.busy": "2025-04-24T19:15:12.730915Z",
     "iopub.status.idle": "2025-04-24T19:15:12.797185Z",
     "shell.execute_reply": "2025-04-24T19:15:12.796118Z"
    },
    "papermill": {
     "duration": 0.073295,
     "end_time": "2025-04-24T19:15:12.799389",
     "exception": false,
     "start_time": "2025-04-24T19:15:12.726094",
     "status": "completed"
    },
    "tags": []
   },
   "outputs": [
    {
     "data": {
      "text/html": [
       "<div>\n",
       "<style scoped>\n",
       "    .dataframe tbody tr th:only-of-type {\n",
       "        vertical-align: middle;\n",
       "    }\n",
       "\n",
       "    .dataframe tbody tr th {\n",
       "        vertical-align: top;\n",
       "    }\n",
       "\n",
       "    .dataframe thead th {\n",
       "        text-align: right;\n",
       "    }\n",
       "</style>\n",
       "<table border=\"1\" class=\"dataframe\">\n",
       "  <thead>\n",
       "    <tr style=\"text-align: right;\">\n",
       "      <th></th>\n",
       "      <th>PassengerId</th>\n",
       "      <th>Survived</th>\n",
       "      <th>Pclass</th>\n",
       "      <th>Name</th>\n",
       "      <th>Sex</th>\n",
       "      <th>Age</th>\n",
       "      <th>SibSp</th>\n",
       "      <th>Parch</th>\n",
       "      <th>Ticket</th>\n",
       "      <th>Fare</th>\n",
       "      <th>Cabin</th>\n",
       "      <th>Embarked</th>\n",
       "    </tr>\n",
       "  </thead>\n",
       "  <tbody>\n",
       "    <tr>\n",
       "      <th>0</th>\n",
       "      <td>1</td>\n",
       "      <td>0</td>\n",
       "      <td>3</td>\n",
       "      <td>Braund, Mr. Owen Harris</td>\n",
       "      <td>male</td>\n",
       "      <td>22.0</td>\n",
       "      <td>1</td>\n",
       "      <td>0</td>\n",
       "      <td>A/5 21171</td>\n",
       "      <td>7.2500</td>\n",
       "      <td>NaN</td>\n",
       "      <td>S</td>\n",
       "    </tr>\n",
       "    <tr>\n",
       "      <th>1</th>\n",
       "      <td>2</td>\n",
       "      <td>1</td>\n",
       "      <td>1</td>\n",
       "      <td>Cumings, Mrs. John Bradley (Florence Briggs Th...</td>\n",
       "      <td>female</td>\n",
       "      <td>38.0</td>\n",
       "      <td>1</td>\n",
       "      <td>0</td>\n",
       "      <td>PC 17599</td>\n",
       "      <td>71.2833</td>\n",
       "      <td>C85</td>\n",
       "      <td>C</td>\n",
       "    </tr>\n",
       "    <tr>\n",
       "      <th>2</th>\n",
       "      <td>3</td>\n",
       "      <td>1</td>\n",
       "      <td>3</td>\n",
       "      <td>Heikkinen, Miss. Laina</td>\n",
       "      <td>female</td>\n",
       "      <td>26.0</td>\n",
       "      <td>0</td>\n",
       "      <td>0</td>\n",
       "      <td>STON/O2. 3101282</td>\n",
       "      <td>7.9250</td>\n",
       "      <td>NaN</td>\n",
       "      <td>S</td>\n",
       "    </tr>\n",
       "    <tr>\n",
       "      <th>3</th>\n",
       "      <td>4</td>\n",
       "      <td>1</td>\n",
       "      <td>1</td>\n",
       "      <td>Futrelle, Mrs. Jacques Heath (Lily May Peel)</td>\n",
       "      <td>female</td>\n",
       "      <td>35.0</td>\n",
       "      <td>1</td>\n",
       "      <td>0</td>\n",
       "      <td>113803</td>\n",
       "      <td>53.1000</td>\n",
       "      <td>C123</td>\n",
       "      <td>S</td>\n",
       "    </tr>\n",
       "    <tr>\n",
       "      <th>4</th>\n",
       "      <td>5</td>\n",
       "      <td>0</td>\n",
       "      <td>3</td>\n",
       "      <td>Allen, Mr. William Henry</td>\n",
       "      <td>male</td>\n",
       "      <td>35.0</td>\n",
       "      <td>0</td>\n",
       "      <td>0</td>\n",
       "      <td>373450</td>\n",
       "      <td>8.0500</td>\n",
       "      <td>NaN</td>\n",
       "      <td>S</td>\n",
       "    </tr>\n",
       "  </tbody>\n",
       "</table>\n",
       "</div>"
      ],
      "text/plain": [
       "   PassengerId  Survived  Pclass  \\\n",
       "0            1         0       3   \n",
       "1            2         1       1   \n",
       "2            3         1       3   \n",
       "3            4         1       1   \n",
       "4            5         0       3   \n",
       "\n",
       "                                                Name     Sex   Age  SibSp  \\\n",
       "0                            Braund, Mr. Owen Harris    male  22.0      1   \n",
       "1  Cumings, Mrs. John Bradley (Florence Briggs Th...  female  38.0      1   \n",
       "2                             Heikkinen, Miss. Laina  female  26.0      0   \n",
       "3       Futrelle, Mrs. Jacques Heath (Lily May Peel)  female  35.0      1   \n",
       "4                           Allen, Mr. William Henry    male  35.0      0   \n",
       "\n",
       "   Parch            Ticket     Fare Cabin Embarked  \n",
       "0      0         A/5 21171   7.2500   NaN        S  \n",
       "1      0          PC 17599  71.2833   C85        C  \n",
       "2      0  STON/O2. 3101282   7.9250   NaN        S  \n",
       "3      0            113803  53.1000  C123        S  \n",
       "4      0            373450   8.0500   NaN        S  "
      ]
     },
     "execution_count": 2,
     "metadata": {},
     "output_type": "execute_result"
    }
   ],
   "source": [
    "# load the data\n",
    "train_data = pd.read_csv(\"/kaggle/input/titanic/train.csv\")\n",
    "test_data = pd.read_csv(\"/kaggle/input/titanic/test.csv\")\n",
    "\n",
    "train_data.head()"
   ]
  },
  {
   "cell_type": "code",
   "execution_count": 3,
   "id": "639b938e",
   "metadata": {
    "execution": {
     "iopub.execute_input": "2025-04-24T19:15:12.809496Z",
     "iopub.status.busy": "2025-04-24T19:15:12.809123Z",
     "iopub.status.idle": "2025-04-24T19:15:12.837132Z",
     "shell.execute_reply": "2025-04-24T19:15:12.835762Z"
    },
    "papermill": {
     "duration": 0.035462,
     "end_time": "2025-04-24T19:15:12.839284",
     "exception": false,
     "start_time": "2025-04-24T19:15:12.803822",
     "status": "completed"
    },
    "tags": []
   },
   "outputs": [
    {
     "name": "stdout",
     "output_type": "stream",
     "text": [
      "<class 'pandas.core.frame.DataFrame'>\n",
      "RangeIndex: 891 entries, 0 to 890\n",
      "Data columns (total 12 columns):\n",
      " #   Column       Non-Null Count  Dtype  \n",
      "---  ------       --------------  -----  \n",
      " 0   PassengerId  891 non-null    int64  \n",
      " 1   Survived     891 non-null    int64  \n",
      " 2   Pclass       891 non-null    int64  \n",
      " 3   Name         891 non-null    object \n",
      " 4   Sex          891 non-null    object \n",
      " 5   Age          714 non-null    float64\n",
      " 6   SibSp        891 non-null    int64  \n",
      " 7   Parch        891 non-null    int64  \n",
      " 8   Ticket       891 non-null    object \n",
      " 9   Fare         891 non-null    float64\n",
      " 10  Cabin        204 non-null    object \n",
      " 11  Embarked     889 non-null    object \n",
      "dtypes: float64(2), int64(5), object(5)\n",
      "memory usage: 83.7+ KB\n"
     ]
    }
   ],
   "source": [
    "train_data.info()"
   ]
  },
  {
   "cell_type": "markdown",
   "id": "2f916142",
   "metadata": {
    "papermill": {
     "duration": 0.003858,
     "end_time": "2025-04-24T19:15:12.847575",
     "exception": false,
     "start_time": "2025-04-24T19:15:12.843717",
     "status": "completed"
    },
    "tags": []
   },
   "source": [
    ">  well as for first thoughts I think it will be better without unnecessary features\n",
    "> \n",
    "> I mean without **Name**, **Cabin**, **Ticket**\n",
    ">"
   ]
  },
  {
   "cell_type": "code",
   "execution_count": 4,
   "id": "85bfc9d3",
   "metadata": {
    "execution": {
     "iopub.execute_input": "2025-04-24T19:15:12.857092Z",
     "iopub.status.busy": "2025-04-24T19:15:12.856670Z",
     "iopub.status.idle": "2025-04-24T19:15:12.868201Z",
     "shell.execute_reply": "2025-04-24T19:15:12.867182Z"
    },
    "papermill": {
     "duration": 0.018379,
     "end_time": "2025-04-24T19:15:12.870101",
     "exception": false,
     "start_time": "2025-04-24T19:15:12.851722",
     "status": "completed"
    },
    "tags": []
   },
   "outputs": [
    {
     "data": {
      "text/plain": [
       "PassengerId      0\n",
       "Survived         0\n",
       "Pclass           0\n",
       "Sex              0\n",
       "Age            177\n",
       "SibSp            0\n",
       "Parch            0\n",
       "Fare             0\n",
       "Embarked         2\n",
       "dtype: int64"
      ]
     },
     "execution_count": 4,
     "metadata": {},
     "output_type": "execute_result"
    }
   ],
   "source": [
    "df = train_data.drop(['Name', 'Ticket', 'Cabin'], axis=1)\n",
    "df.isna().sum(axis=0)"
   ]
  },
  {
   "cell_type": "markdown",
   "id": "cf31481c",
   "metadata": {
    "papermill": {
     "duration": 0.003906,
     "end_time": "2025-04-24T19:15:12.878484",
     "exception": false,
     "start_time": "2025-04-24T19:15:12.874578",
     "status": "completed"
    },
    "tags": []
   },
   "source": [
    "> Now after dropping those features let's look at our lovely Nan's\n",
    ">\n",
    "> **Age** has 177 - here I wanna start with 'median feeling'\n",
    ">\n",
    "> **Embarked** has only 2 - here I would like to check mode"
   ]
  },
  {
   "cell_type": "code",
   "execution_count": 5,
   "id": "cb01dbd9",
   "metadata": {
    "execution": {
     "iopub.execute_input": "2025-04-24T19:15:12.887951Z",
     "iopub.status.busy": "2025-04-24T19:15:12.887578Z",
     "iopub.status.idle": "2025-04-24T19:15:12.892180Z",
     "shell.execute_reply": "2025-04-24T19:15:12.891234Z"
    },
    "papermill": {
     "duration": 0.01126,
     "end_time": "2025-04-24T19:15:12.893872",
     "exception": false,
     "start_time": "2025-04-24T19:15:12.882612",
     "status": "completed"
    },
    "tags": []
   },
   "outputs": [],
   "source": [
    "# columns names into lower immediately =)\n",
    "df.columns = df.columns.str.lower()"
   ]
  },
  {
   "cell_type": "code",
   "execution_count": 6,
   "id": "ace981ba",
   "metadata": {
    "execution": {
     "iopub.execute_input": "2025-04-24T19:15:12.903873Z",
     "iopub.status.busy": "2025-04-24T19:15:12.903477Z",
     "iopub.status.idle": "2025-04-24T19:15:12.910052Z",
     "shell.execute_reply": "2025-04-24T19:15:12.908995Z"
    },
    "papermill": {
     "duration": 0.013367,
     "end_time": "2025-04-24T19:15:12.911707",
     "exception": false,
     "start_time": "2025-04-24T19:15:12.898340",
     "status": "completed"
    },
    "tags": []
   },
   "outputs": [
    {
     "data": {
      "text/plain": [
       "28.0"
      ]
     },
     "execution_count": 6,
     "metadata": {},
     "output_type": "execute_result"
    }
   ],
   "source": [
    "value = df.age.median()\n",
    "value"
   ]
  },
  {
   "cell_type": "code",
   "execution_count": 7,
   "id": "9e0db685",
   "metadata": {
    "execution": {
     "iopub.execute_input": "2025-04-24T19:15:12.921982Z",
     "iopub.status.busy": "2025-04-24T19:15:12.921602Z",
     "iopub.status.idle": "2025-04-24T19:15:12.928680Z",
     "shell.execute_reply": "2025-04-24T19:15:12.927282Z"
    },
    "papermill": {
     "duration": 0.014335,
     "end_time": "2025-04-24T19:15:12.930577",
     "exception": false,
     "start_time": "2025-04-24T19:15:12.916242",
     "status": "completed"
    },
    "tags": []
   },
   "outputs": [],
   "source": [
    "df['age'] = df.age.fillna(df.age.median())\n",
    "df['embarked'] = df.embarked.fillna(df.embarked.mode()[0])"
   ]
  },
  {
   "cell_type": "code",
   "execution_count": 8,
   "id": "8bc01ecb",
   "metadata": {
    "execution": {
     "iopub.execute_input": "2025-04-24T19:15:12.941149Z",
     "iopub.status.busy": "2025-04-24T19:15:12.940782Z",
     "iopub.status.idle": "2025-04-24T19:15:12.952178Z",
     "shell.execute_reply": "2025-04-24T19:15:12.950834Z"
    },
    "papermill": {
     "duration": 0.018915,
     "end_time": "2025-04-24T19:15:12.954159",
     "exception": false,
     "start_time": "2025-04-24T19:15:12.935244",
     "status": "completed"
    },
    "tags": []
   },
   "outputs": [
    {
     "name": "stdout",
     "output_type": "stream",
     "text": [
      "<class 'pandas.core.frame.DataFrame'>\n",
      "RangeIndex: 891 entries, 0 to 890\n",
      "Data columns (total 9 columns):\n",
      " #   Column       Non-Null Count  Dtype  \n",
      "---  ------       --------------  -----  \n",
      " 0   passengerid  891 non-null    int64  \n",
      " 1   survived     891 non-null    int64  \n",
      " 2   pclass       891 non-null    int64  \n",
      " 3   sex          891 non-null    object \n",
      " 4   age          891 non-null    float64\n",
      " 5   sibsp        891 non-null    int64  \n",
      " 6   parch        891 non-null    int64  \n",
      " 7   fare         891 non-null    float64\n",
      " 8   embarked     891 non-null    object \n",
      "dtypes: float64(2), int64(5), object(2)\n",
      "memory usage: 62.8+ KB\n"
     ]
    }
   ],
   "source": [
    "df.info()"
   ]
  },
  {
   "cell_type": "code",
   "execution_count": 9,
   "id": "386236c6",
   "metadata": {
    "execution": {
     "iopub.execute_input": "2025-04-24T19:15:12.964609Z",
     "iopub.status.busy": "2025-04-24T19:15:12.964219Z",
     "iopub.status.idle": "2025-04-24T19:15:12.974153Z",
     "shell.execute_reply": "2025-04-24T19:15:12.973129Z"
    },
    "papermill": {
     "duration": 0.017019,
     "end_time": "2025-04-24T19:15:12.975844",
     "exception": false,
     "start_time": "2025-04-24T19:15:12.958825",
     "status": "completed"
    },
    "tags": []
   },
   "outputs": [
    {
     "data": {
      "text/plain": [
       "survived\n",
       "0    0.616162\n",
       "1    0.383838\n",
       "Name: proportion, dtype: float64"
      ]
     },
     "execution_count": 9,
     "metadata": {},
     "output_type": "execute_result"
    }
   ],
   "source": [
    "# let's check out class balance\n",
    "df['survived'].value_counts(normalize=True)"
   ]
  },
  {
   "cell_type": "code",
   "execution_count": 10,
   "id": "00657ff7",
   "metadata": {
    "execution": {
     "iopub.execute_input": "2025-04-24T19:15:12.986605Z",
     "iopub.status.busy": "2025-04-24T19:15:12.986230Z",
     "iopub.status.idle": "2025-04-24T19:15:12.993441Z",
     "shell.execute_reply": "2025-04-24T19:15:12.992337Z"
    },
    "papermill": {
     "duration": 0.014713,
     "end_time": "2025-04-24T19:15:12.995306",
     "exception": false,
     "start_time": "2025-04-24T19:15:12.980593",
     "status": "completed"
    },
    "tags": []
   },
   "outputs": [
    {
     "data": {
      "text/plain": [
       "dtype('bool')"
      ]
     },
     "execution_count": 10,
     "metadata": {},
     "output_type": "execute_result"
    }
   ],
   "source": [
    "# convert feature sex into correct type - bool\n",
    "df.sex = df['sex'].apply(lambda x: True if x == 'male' else  False)\n",
    "df.sex.dtype"
   ]
  },
  {
   "cell_type": "code",
   "execution_count": 11,
   "id": "c1d8dcf9",
   "metadata": {
    "execution": {
     "iopub.execute_input": "2025-04-24T19:15:13.006136Z",
     "iopub.status.busy": "2025-04-24T19:15:13.005786Z",
     "iopub.status.idle": "2025-04-24T19:15:13.009699Z",
     "shell.execute_reply": "2025-04-24T19:15:13.008714Z"
    },
    "papermill": {
     "duration": 0.011425,
     "end_time": "2025-04-24T19:15:13.011501",
     "exception": false,
     "start_time": "2025-04-24T19:15:13.000076",
     "status": "completed"
    },
    "tags": []
   },
   "outputs": [],
   "source": [
    "# df_corr = df.drop(['passengerid', 'survived', 'embarked'])"
   ]
  }
 ],
 "metadata": {
  "kaggle": {
   "accelerator": "none",
   "dataSources": [
    {
     "databundleVersionId": 26502,
     "sourceId": 3136,
     "sourceType": "competition"
    }
   ],
   "dockerImageVersionId": 30918,
   "isGpuEnabled": false,
   "isInternetEnabled": false,
   "language": "python",
   "sourceType": "notebook"
  },
  "kernelspec": {
   "display_name": "Python 3",
   "language": "python",
   "name": "python3"
  },
  "language_info": {
   "codemirror_mode": {
    "name": "ipython",
    "version": 3
   },
   "file_extension": ".py",
   "mimetype": "text/x-python",
   "name": "python",
   "nbconvert_exporter": "python",
   "pygments_lexer": "ipython3",
   "version": "3.10.12"
  },
  "papermill": {
   "default_parameters": {},
   "duration": 14.02399,
   "end_time": "2025-04-24T19:15:13.736292",
   "environment_variables": {},
   "exception": null,
   "input_path": "__notebook__.ipynb",
   "output_path": "__notebook__.ipynb",
   "parameters": {},
   "start_time": "2025-04-24T19:14:59.712302",
   "version": "2.6.0"
  }
 },
 "nbformat": 4,
 "nbformat_minor": 5
}
